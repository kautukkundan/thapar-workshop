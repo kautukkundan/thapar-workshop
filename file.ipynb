{
 "cells": [
  {
   "cell_type": "markdown",
   "metadata": {
    "slideshow": {
     "slide_type": "slide"
    }
   },
   "source": [
    "# Intro to DS and ML Workshop"
   ]
  },
  {
   "cell_type": "markdown",
   "metadata": {
    "slideshow": {
     "slide_type": "slide"
    }
   },
   "source": [
    "# Data"
   ]
  },
  {
   "cell_type": "markdown",
   "metadata": {
    "slideshow": {
     "slide_type": "subslide"
    }
   },
   "source": [
    "![Data](http://www.see-change.co/wp-content/uploads/2014/03/Big_Data_Needs.png)"
   ]
  },
  {
   "cell_type": "markdown",
   "metadata": {
    "slideshow": {
     "slide_type": "slide"
    }
   },
   "source": [
    "### What are the Data Sources?  \n",
    "* Tweeted Something?\n",
    "* Watched some videos over Youtube?\n",
    "* Browsing through websites?\n",
    "* Sending messages over Social Apps?"
   ]
  },
  {
   "cell_type": "markdown",
   "metadata": {
    "slideshow": {
     "slide_type": "slide"
    }
   },
   "source": [
    "# Challenge\n",
    "### Generating and Storing the data is not a challenge as much as Utilizing the Data is."
   ]
  },
  {
   "cell_type": "markdown",
   "metadata": {
    "slideshow": {
     "slide_type": "slide"
    }
   },
   "source": [
    "### So why you should care about Data Science?\n",
    "\n",
    "Data Science was said to be the sexiest Job of 21st Centure in Harvard Business Review (October, 2012)  \n",
    "**Source**:https://hbr.org/2012/10/data-scientist-the-sexiest-job-of-the-21st-century"
   ]
  },
  {
   "cell_type": "markdown",
   "metadata": {
    "slideshow": {
     "slide_type": "slide"
    }
   },
   "source": [
    "### What is Data Science?  \n",
    "* Data Science is art of turning **Data** into **Actions**.  \n",
    "* Data Science is not a solo task but rather It's a team effort.  \n",
    "![](https://s3.amazonaws.com/media-p.slid.es/uploads/226653/images/2968829/data_science.png)  \n",
    "  \n",
    "Performing Data Science requires the extraction of timely, actionable information from diverse data sources to drive data products.\n",
    "\n",
    "Some of the examples of Data Products can be:  \n",
    "* Which of the company products should be advertise to increase the profit?\n",
    "* "
   ]
  },
  {
   "cell_type": "code",
   "execution_count": null,
   "metadata": {
    "slideshow": {
     "slide_type": "slide"
    }
   },
   "outputs": [],
   "source": [
    "inmport numpy as np\n",
    "import pandas as pd\n",
    "import matplotlib.pyplot as plt\n",
    "%matplotlib inline\n",
    "\n",
    "import sklearn"
   ]
  }
 ],
 "metadata": {
  "celltoolbar": "Slideshow",
  "kernelspec": {
   "display_name": "Python 3",
   "language": "python",
   "name": "python3"
  },
  "language_info": {
   "codemirror_mode": {
    "name": "ipython",
    "version": 3
   },
   "file_extension": ".py",
   "mimetype": "text/x-python",
   "name": "python",
   "nbconvert_exporter": "python",
   "pygments_lexer": "ipython3",
   "version": "3.5.2"
  }
 },
 "nbformat": 4,
 "nbformat_minor": 2
}
